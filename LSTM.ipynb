{
  "cells": [
    {
      "cell_type": "markdown",
      "source": [
        "# Parallel LSTM"
      ],
      "metadata": {
        "id": "-EBc51tt54-d"
      }
    },
    {
      "cell_type": "markdown",
      "source": [
        "## I. Introduction"
      ],
      "metadata": {
        "id": "vWQtSIlK6AM7"
      }
    },
    {
      "cell_type": "markdown",
      "source": [
        "### 1. RNN"
      ],
      "metadata": {
        "id": "QKijvl6_6lPK"
      }
    },
    {
      "cell_type": "markdown",
      "source": [
        "### 2. LSTM"
      ],
      "metadata": {
        "id": "fGeO1Un36nU5"
      }
    },
    {
      "cell_type": "markdown",
      "source": [
        "## II. Implementation"
      ],
      "metadata": {
        "id": "lCnbGiFu6OD4"
      }
    },
    {
      "cell_type": "markdown",
      "source": [
        "#### Libraries and Functions"
      ],
      "metadata": {
        "id": "cftWWFsH9i1b"
      }
    },
    {
      "cell_type": "code",
      "source": [
        "# Libraries\n",
        "import math\n",
        "import matplotlib.pyplot as plt\n",
        "import numpy as np\n",
        "from numba import cuda\n",
        "np.warnings.filterwarnings('ignore', category=np.VisibleDeprecationWarning)\n",
        "np.random.seed(42)\n",
        "hidden_size = 50"
      ],
      "metadata": {
        "id": "riQn82YCL2mm"
      },
      "execution_count": 1,
      "outputs": []
    },
    {
      "cell_type": "code",
      "source": [
        "# Temporarily replace np.random.randn() -> Need to re-implement\n",
        "def randn(x, y):\n",
        "  return np.array([[0.5 if (u+i)%2==0 else -0.5 for u in range(y)] for i in range(x)])"
      ],
      "metadata": {
        "id": "o2YlDlB6c8Ki"
      },
      "execution_count": 2,
      "outputs": []
    },
    {
      "cell_type": "code",
      "execution_count": 3,
      "metadata": {
        "id": "JhtAntwJZ36l"
      },
      "outputs": [],
      "source": [
        "# Function: Create a list of sequences as input dataset\n",
        "def generate_dataset(num_sequences = 100):\n",
        "    samples = []\n",
        "    for _ in range(num_sequences): \n",
        "        num_tokens = np.random.randint(1, 10)\n",
        "        sample = ['A'] * num_tokens + ['B'] * num_tokens + ['C'] * num_tokens + ['D'] * num_tokens + ['EOS']\n",
        "        samples.append(sample)\n",
        "    return samples\n",
        "\n",
        "# Function: List of sequences -> word_to_idx, idx_to_word, num_sentences, vocab_size\n",
        "def sequences_to_dicts(sequences):\n",
        "    flatten = lambda l: [item for sublist in l for item in sublist] # Flatten a nested list\n",
        "    all_words = flatten(sequences)\n",
        "    \n",
        "    # Count number of word occurences\n",
        "    word_count = {}\n",
        "    for word in flatten(sequences):\n",
        "        word_count[word] = 0\n",
        "    for word in flatten(sequences):\n",
        "        word_count[word] = word_count[word] + 1\n",
        "\n",
        "    # Sort by frequency\n",
        "    word_count = sorted(list(word_count.items()), key=lambda l: -l[1])\n",
        "\n",
        "    # Create a list of all unique words\n",
        "    unique_words = [item[0] for item in word_count]\n",
        "    \n",
        "    # Add UNK token to list of words\n",
        "    unique_words.append('UNK')\n",
        "\n",
        "    # Count number of sequences and number of unique words\n",
        "    num_sentences, vocab_size = len(sequences), len(unique_words)\n",
        "\n",
        "    # Create dictionaries so that we can go from word to index and back\n",
        "    word_to_idx = {}\n",
        "    idx_to_word = {}\n",
        "\n",
        "    # Fill dictionaries\n",
        "    for idx, word in enumerate(unique_words):\n",
        "        word_to_idx[word] = idx\n",
        "        idx_to_word[idx] = word\n",
        "\n",
        "    return word_to_idx, idx_to_word, num_sentences, vocab_size\n",
        "\n",
        "# Function: Create and split dataset into Train/Val/Test set\n",
        "def create_datasets(sequences, p_train=0.8, p_val=0.1, p_test=0.1):\n",
        "    # Train/Val/Test ratio\n",
        "    num_train = int(len(sequences)*p_train)\n",
        "    num_val = int(len(sequences)*p_val)\n",
        "    num_test = int(len(sequences)*p_test)\n",
        "    # Split sequences into Train/Val/Test\n",
        "    sequences_train = sequences[:num_train]\n",
        "    sequences_val = sequences[num_train:num_train+num_val]\n",
        "    sequences_test = sequences[-num_test:]\n",
        "\n",
        "    def get_inputs_targets_from_sequences(sequences):\n",
        "        inputs, targets = [], []\n",
        "        # Append inputs and targets s.t. both lists contain L-1 words of a sentence of length L\n",
        "        # but targets are shifted right by one so that we can predict the next word\n",
        "        for sequence in sequences:\n",
        "            inputs.append(sequence[:-1])\n",
        "            targets.append(sequence[1:])\n",
        "        return inputs, targets\n",
        "\n",
        "    # Get inputs and targets for each partition\n",
        "    inputs_train, targets_train = get_inputs_targets_from_sequences(sequences_train)\n",
        "    inputs_val, targets_val = get_inputs_targets_from_sequences(sequences_val)\n",
        "    inputs_test, targets_test = get_inputs_targets_from_sequences(sequences_test)\n",
        "\n",
        "    # Create datasets\n",
        "    training_set = [(inputs_train[i], targets_train[i]) for i in range(len(inputs_train))]\n",
        "    validation_set = [(inputs_val[i], targets_val[i]) for i in range(len(inputs_val))]\n",
        "    test_set = [(inputs_test[i], targets_test[i]) for i in range(len(inputs_test))]    \n",
        "\n",
        "    return training_set, validation_set, test_set"
      ]
    },
    {
      "cell_type": "code",
      "execution_count": 4,
      "metadata": {
        "id": "K8Wc-ctOZ36t"
      },
      "outputs": [],
      "source": [
        "# Function: One-hot Encoding a word -> 1-D numpy array (len = vocab_size)\n",
        "def one_hot_encode(word_idx, vocab_size):\n",
        "    # Initialize the encoded array\n",
        "    one_hot = np.zeros(vocab_size)\n",
        "    # Set the appropriate element to one\n",
        "    one_hot[word_idx] = 1.0\n",
        "    return one_hot\n",
        "\n",
        "# Function: One-hot Encoding a sequence -> 3-D numpy array (shape = num words, vocab size, 1)\n",
        "def one_hot_encode_sequence(sequence, vocab_size):\n",
        "    # Encode each word in the sentence\n",
        "    encoding = np.array([one_hot_encode(word_to_idx[word], vocab_size) for word in sequence])\n",
        "    # Reshape encoding s.t. it has shape (num words, vocab size, 1)\n",
        "    encoding = encoding.reshape(encoding.shape[0], encoding.shape[1], 1)\n",
        "    return encoding"
      ]
    },
    {
      "cell_type": "code",
      "execution_count": 5,
      "metadata": {
        "id": "by72__chZ36v"
      },
      "outputs": [],
      "source": [
        "# Activation Function: Sigmoid\n",
        "def sigmoid(x, derivative=False):\n",
        "    x_safe = x + 1e-12\n",
        "    f = 1 / (1 + np.exp(-x_safe))\n",
        "    # Return the derivative of the function evaluated at x\n",
        "    if derivative:\n",
        "        return f * (1 - f)\n",
        "    # Return the forward pass of the function at x\n",
        "    else:\n",
        "        return f\n",
        "\n",
        "# Activation Function: Tanh\n",
        "def tanh(x, derivative=False):\n",
        "    x_safe = x + 1e-12\n",
        "    f = (np.exp(x_safe)-np.exp(-x_safe))/(np.exp(x_safe)+np.exp(-x_safe))\n",
        "    # Return the derivative of the function evaluated at x\n",
        "    if derivative:\n",
        "        return 1-f**2\n",
        "    # Return the forward pass of the function at x\n",
        "    else:\n",
        "        return f\n",
        "\n",
        "# Activation Function: Softmax\n",
        "def softmax(x, derivative=False):\n",
        "    x_safe = x + 1e-12\n",
        "    f = np.exp(x_safe) / np.sum(np.exp(x_safe))\n",
        "    if derivative: # Return the derivative of the function evaluated at x\n",
        "        pass # We will not need this one\n",
        "    else: # Return the forward pass of the function at x\n",
        "        return f\n",
        "\n",
        "# Function: Clips gradients to have a maximum norm of `max_norm` -> prevent the exploding gradients\n",
        "def clip_gradient_norm(grads, max_norm=0.25):\n",
        "    # Set the maximum of the norm to be of type float\n",
        "    max_norm = float(max_norm)\n",
        "    total_norm = 0\n",
        "    # Calculate the L2 norm squared for each gradient and add them to the total norm\n",
        "    for grad in grads:\n",
        "        grad_norm = np.sum(np.power(grad, 2))\n",
        "        total_norm = total_norm + grad_norm\n",
        "    total_norm = np.sqrt(total_norm)\n",
        "    # Calculate clipping coeficient\n",
        "    clip_coef = max_norm / (total_norm + 1e-6)\n",
        "    # If the total norm is larger than the maximum allowable norm, then clip the gradient\n",
        "    if clip_coef < 1:\n",
        "        for grad in grads:\n",
        "            grad *= clip_coef\n",
        "    return grads"
      ]
    },
    {
      "cell_type": "code",
      "source": [
        "# Function: Initializes weight parameters orthogonally\n",
        "# Paper for explanation of the initialization: https://arxiv.org/abs/1312.6120\n",
        "def init_orthogonal(param):\n",
        "    if param.ndim < 2:\n",
        "        raise ValueError(\"Only parameters with 2 or more dimensions are supported.\")\n",
        "    rows, cols = param.shape\n",
        "    new_param = randn(rows, cols) #np.random.randn(rows, cols)\n",
        "    if rows < cols:\n",
        "        new_param = new_param.T\n",
        "    # Compute QR factorization\n",
        "    q, r = np.linalg.qr(new_param)\n",
        "    # Make Q uniform according to https://arxiv.org/pdf/math-ph/0609050.pdf\n",
        "    d = np.diag(r, 0)\n",
        "    ph = np.sign(d)\n",
        "    q *= ph\n",
        "    if rows < cols:\n",
        "        q = q.T\n",
        "    new_param = q\n",
        "    return new_param\n",
        "\n",
        "# Function: Initializes LSTM network\n",
        "def init_lstm(hidden_size, vocab_size, z_size):\n",
        "    # Weight matrix (forget gate)\n",
        "    W_f = randn(hidden_size, z_size) #np.random.randn(hidden_size, z_size)\n",
        "    # Bias for forget gate\n",
        "    b_f = np.zeros((hidden_size, 1))\n",
        "    # Weight matrix (input gate)\n",
        "    W_i = randn(hidden_size, z_size) #np.random.randn(hidden_size, z_size)\n",
        "    # Bias for input gate\n",
        "    b_i = np.zeros((hidden_size, 1))\n",
        "    # Weight matrix (candidate)\n",
        "    W_g = randn(hidden_size, z_size) #np.random.randn(hidden_size, z_size)\n",
        "    # Bias for candidate\n",
        "    b_g = np.zeros((hidden_size, 1))\n",
        "    # Weight matrix of the output gate\n",
        "    W_o = randn(hidden_size, z_size) #np.random.randn(hidden_size, z_size)\n",
        "    b_o = np.zeros((hidden_size, 1))\n",
        "    # Weight matrix relating the hidden-state to the output\n",
        "    W_v = randn(vocab_size, hidden_size) #np.random.randn(vocab_size, hidden_size)\n",
        "    b_v = np.zeros((vocab_size, 1))\n",
        "    # Initialize weights according to https://arxiv.org/abs/1312.6120\n",
        "    W_f = init_orthogonal(W_f)\n",
        "    W_i = init_orthogonal(W_i)\n",
        "    W_g = init_orthogonal(W_g)\n",
        "    W_o = init_orthogonal(W_o)\n",
        "    W_v = init_orthogonal(W_v)\n",
        "\n",
        "    return W_f, W_i, W_g, W_o, W_v, b_f, b_i, b_g, b_o, b_v"
      ],
      "metadata": {
        "id": "atAbI_RO7KGd"
      },
      "execution_count": 6,
      "outputs": []
    },
    {
      "cell_type": "code",
      "execution_count": 7,
      "metadata": {
        "id": "BgYwC-JZZ364"
      },
      "outputs": [],
      "source": [
        "# Function: Forward Pass\n",
        "def forward(inputs, h_prev, C_prev, p):\n",
        "    \"\"\"\n",
        "    Arguments:\n",
        "    x -- your input data at timestep \"t\", numpy array of shape (n_x, m).\n",
        "    h_prev -- Hidden state at timestep \"t-1\", numpy array of shape (n_a, m)\n",
        "    C_prev -- Memory state at timestep \"t-1\", numpy array of shape (n_a, m)\n",
        "    p (params) -- python list containing:\n",
        "                        W_f -- Weight matrix of the forget gate, numpy array of shape (n_a, n_a + n_x)\n",
        "                        b_f -- Bias of the forget gate, numpy array of shape (n_a, 1)\n",
        "                        W_i -- Weight matrix of the update gate, numpy array of shape (n_a, n_a + n_x)\n",
        "                        b_i -- Bias of the update gate, numpy array of shape (n_a, 1)\n",
        "                        W_g -- Weight matrix of the first \"tanh\", numpy array of shape (n_a, n_a + n_x)\n",
        "                        b_g --  Bias of the first \"tanh\", numpy array of shape (n_a, 1)\n",
        "                        W_o -- Weight matrix of the output gate, numpy array of shape (n_a, n_a + n_x)\n",
        "                        b_o --  Bias of the output gate, numpy array of shape (n_a, 1)\n",
        "                        W_v -- Weight matrix relating the hidden-state to the output, numpy array of shape (n_v, n_a)\n",
        "                        b_v -- Bias relating the hidden-state to the output, numpy array of shape (n_v, 1)\n",
        "    Returns:\n",
        "    z_s, f_s, i_s, g_s, C_s, o_s, h_s, v_s -- lists of size m containing the computations in each forward pass\n",
        "    outputs -- prediction at timestep \"t\", numpy array of shape (n_v, m)\n",
        "    \"\"\"\n",
        "    assert h_prev.shape == (hidden_size, 1)\n",
        "    assert C_prev.shape == (hidden_size, 1)\n",
        "\n",
        "    # First we unpack our parameters\n",
        "    W_f, W_i, W_g, W_o, W_v, b_f, b_i, b_g, b_o, b_v = p\n",
        "    \n",
        "    # Save a list of computations for each of the components in the LSTM\n",
        "    z_s, f_s, i_s, g_s, o_s, v_s = [0] * len(inputs), [0] * len(inputs), [0] * len(inputs), [0] * len(inputs), [0] * len(inputs), [0] * len(inputs)\n",
        "    output_s = [0] * len(inputs)\n",
        "    h_s, C_s = [0] * (len(inputs)+1), [0] * (len(inputs)+1)\n",
        "    \n",
        "    # Append the initial cell and hidden state to their respective lists\n",
        "    h_s[0] = h_prev\n",
        "    C_s[0] = C_prev\n",
        "    \n",
        "    for idx, x in enumerate(inputs):\n",
        "        \n",
        "        # Concatenate input and hidden state\n",
        "        z = np.row_stack((h_prev, x))\n",
        "        z_s[idx] = z\n",
        "        \n",
        "        # Calculate forget gate\n",
        "        f = sigmoid(np.dot(W_f, z) + b_f)\n",
        "        f_s[idx] = f\n",
        "        \n",
        "        # Calculate input gate\n",
        "        i = sigmoid(np.dot(W_i, z) + b_i)\n",
        "        i_s[idx] = i\n",
        "        \n",
        "        # Calculate candidate\n",
        "        g = tanh(np.dot(W_g, z) + b_g)\n",
        "        g_s[idx] = g\n",
        "        \n",
        "        # Calculate memory state\n",
        "        C_prev = f * C_prev + i * g\n",
        "        C_s[idx+1] = C_prev\n",
        "        \n",
        "        # Calculate output gate\n",
        "        o = sigmoid(np.dot(W_o, z) + b_o)\n",
        "        o_s[idx] = o\n",
        "        \n",
        "        # Calculate hidden state\n",
        "        h_prev = o * tanh(C_prev)\n",
        "        h_s[idx+1] = h_prev\n",
        "\n",
        "        # Calculate logits\n",
        "        v = np.dot(W_v, h_prev) + b_v\n",
        "        v_s[idx] = v\n",
        "        \n",
        "        # Calculate softmax\n",
        "        output = softmax(v)\n",
        "        output_s[idx] = output\n",
        "\n",
        "    return z_s, f_s, i_s, g_s, C_s, o_s, h_s, v_s, output_s\n",
        "\n",
        "# Function: Backward Pass\n",
        "def backward(z, f, i, g, C, o, h, v, outputs, targets, p):\n",
        "    \"\"\"\n",
        "    Arguments:\n",
        "    z -- your concatenated input data  as a list of size m.\n",
        "    f -- your forget gate computations as a list of size m.\n",
        "    i -- your input gate computations as a list of size m.\n",
        "    g -- your candidate computations as a list of size m.\n",
        "    C -- your Cell states as a list of size m+1.\n",
        "    o -- your output gate computations as a list of size m.\n",
        "    h -- your Hidden state computations as a list of size m+1.\n",
        "    v -- your logit computations as a list of size m.\n",
        "    outputs -- your outputs as a list of size m.\n",
        "    targets -- your targets as a list of size m.\n",
        "    p (params) -- python list containing:\n",
        "                        W_f -- Weight matrix of the forget gate, numpy array of shape (n_a, n_a + n_x)\n",
        "                        b_f -- Bias of the forget gate, numpy array of shape (n_a, 1)\n",
        "                        W_i -- Weight matrix of the update gate, numpy array of shape (n_a, n_a + n_x)\n",
        "                        b_i -- Bias of the update gate, numpy array of shape (n_a, 1)\n",
        "                        W_g -- Weight matrix of the first \"tanh\", numpy array of shape (n_a, n_a + n_x)\n",
        "                        b_g --  Bias of the first \"tanh\", numpy array of shape (n_a, 1)\n",
        "                        W_o -- Weight matrix of the output gate, numpy array of shape (n_a, n_a + n_x)\n",
        "                        b_o --  Bias of the output gate, numpy array of shape (n_a, 1)\n",
        "                        W_v -- Weight matrix relating the hidden-state to the output, numpy array of shape (n_v, n_a)\n",
        "                        b_v -- Bias relating the hidden-state to the output, numpy array of shape (n_v, 1)\n",
        "    Returns:\n",
        "    loss -- crossentropy loss for all elements in output\n",
        "    grads -- lists of gradients of every element in p\n",
        "    \"\"\"\n",
        "\n",
        "    # Unpack parameters\n",
        "    W_f, W_i, W_g, W_o, W_v, b_f, b_i, b_g, b_o, b_v = p\n",
        "\n",
        "    # Initialize gradients as zero\n",
        "    W_f_d = np.zeros_like(W_f)\n",
        "    b_f_d = np.zeros_like(b_f)\n",
        "\n",
        "    W_i_d = np.zeros_like(W_i)\n",
        "    b_i_d = np.zeros_like(b_i)\n",
        "\n",
        "    W_g_d = np.zeros_like(W_g)\n",
        "    b_g_d = np.zeros_like(b_g)\n",
        "\n",
        "    W_o_d = np.zeros_like(W_o)\n",
        "    b_o_d = np.zeros_like(b_o)\n",
        "\n",
        "    W_v_d = np.zeros_like(W_v)\n",
        "    b_v_d = np.zeros_like(b_v)\n",
        "    \n",
        "    # Set the next cell and hidden state equal to zero\n",
        "    dh_next = np.zeros_like(h[0])\n",
        "    dC_next = np.zeros_like(C[0])\n",
        "        \n",
        "    # Track loss\n",
        "    loss = 0\n",
        "    \n",
        "    for t in reversed(range(len(outputs))):\n",
        "        \n",
        "        # Compute the cross entropy\n",
        "        loss = loss + (-np.mean(np.log(outputs[t]) * targets[t]))\n",
        "        # Get the previous hidden cell state\n",
        "        C_prev= C[t-1]\n",
        "        \n",
        "        # Compute the derivative of the relation of the hidden-state to the output gate\n",
        "        dv = np.copy(outputs[t])\n",
        "        dv[np.argmax(targets[t])] = dv[np.argmax(targets[t])] - 1\n",
        "\n",
        "        # Update the gradient of the relation of the hidden-state to the output gate\n",
        "        W_v_d = W_v_d + np.dot(dv, h[t].T)\n",
        "        b_v_d = b_v_d + dv\n",
        "\n",
        "        # Compute the derivative of the hidden state and output gate\n",
        "        dh = np.dot(W_v.T, dv)\n",
        "        dh = dh + dh_next\n",
        "        do = dh * tanh(C[t])\n",
        "        do = sigmoid(o[t], derivative=True)*do\n",
        "        \n",
        "        # Update the gradients with respect to the output gate\n",
        "        W_o_d = W_o_d + np.dot(do, z[t].T)\n",
        "        b_o_d = b_o_d + do\n",
        "\n",
        "        # Compute the derivative of the cell state and candidate g\n",
        "        dC = np.copy(dC_next)\n",
        "        dC = dC + (dh * o[t] * tanh(tanh(C[t]), derivative=True))\n",
        "        dg = dC * i[t]\n",
        "        dg = tanh(g[t], derivative=True) * dg\n",
        "        \n",
        "        # Update the gradients with respect to the candidate\n",
        "        W_g_d = W_g_d + np.dot(dg, z[t].T)\n",
        "        b_g_d = b_g_d + dg\n",
        "\n",
        "        # Compute the derivative of the input gate and update its gradients\n",
        "        di = dC * g[t]\n",
        "        di = sigmoid(i[t], True) * di\n",
        "        W_i_d = W_i_d + np.dot(di, z[t].T)\n",
        "        b_i_d = b_i_d + di\n",
        "\n",
        "        # Compute the derivative of the forget gate and update its gradients\n",
        "        df = dC * C_prev\n",
        "        df = sigmoid(f[t]) * df\n",
        "        W_f_d = W_f_d + np.dot(df, z[t].T)\n",
        "        b_f_d = b_f_d + df\n",
        "\n",
        "        # Compute the derivative of the input and update the gradients of the previous hidden and cell state\n",
        "        dz = (np.dot(W_f.T, df)\n",
        "             + np.dot(W_i.T, di)\n",
        "             + np.dot(W_g.T, dg)\n",
        "             + np.dot(W_o.T, do))\n",
        "        dh_prev = dz[:hidden_size, :]\n",
        "        dC_prev = f[t] * dC\n",
        "        \n",
        "    grads= W_f_d, W_i_d, W_g_d, W_o_d, W_v_d, b_f_d, b_i_d, b_g_d, b_o_d, b_v_d\n",
        "    \n",
        "    # Clip gradients\n",
        "    grads = clip_gradient_norm(grads)\n",
        "    \n",
        "    return loss, grads\n",
        "\n",
        "# Function: Update paremeters of the network base on calculated gradients\n",
        "def update_parameters(params, grads, learning_rate=1e-3):\n",
        "    params = list(params)\n",
        "    for i in range(len(params)):\n",
        "        params[i] = params[i] - learning_rate * grads[i]\n",
        "    params = tuple(params)\n",
        "    return params"
      ]
    },
    {
      "cell_type": "markdown",
      "source": [
        "#### Dataset"
      ],
      "metadata": {
        "id": "2_Hu2lre95KF"
      }
    },
    {
      "cell_type": "code",
      "execution_count": 8,
      "metadata": {
        "colab": {
          "base_uri": "https://localhost:8080/",
          "height": 537
        },
        "id": "qZ_Id1sXZ36p",
        "outputId": "956d2e6f-7627-4549-fb6e-ba76dccc3826"
      },
      "outputs": [
        {
          "output_type": "stream",
          "name": "stdout",
          "text": [
            "Example sequence: ['A', 'A', 'A', 'A', 'A', 'A', 'A', 'B', 'B', 'B', 'B', 'B', 'B', 'B', 'C', 'C', 'C', 'C', 'C', 'C', 'C', 'D', 'D', 'D', 'D', 'D', 'D', 'D', 'EOS']\n",
            "\n"
          ]
        },
        {
          "output_type": "display_data",
          "data": {
            "text/plain": [
              "<Figure size 640x480 with 1 Axes>"
            ],
            "image/png": "[encoded data removed]"
          },
          "metadata": {}
        },
        {
          "output_type": "stream",
          "name": "stdout",
          "text": [
            "\n",
            "\n",
            "Num of sequences (Dataset size):\t100 sequences\n",
            "Num of tokens (Vocab size):\t\t6 tokens\n",
            "\n",
            "word_to_idx:\n",
            "'A' -> 0\n",
            "'B' -> 1\n",
            "'C' -> 2\n",
            "'D' -> 3\n",
            "'EOS' -> 4\n",
            "'UNK' -> 5\n",
            "\n",
            "idx_to_word:\n",
            "0 -> 'A'\n",
            "1 -> 'B'\n",
            "2 -> 'C'\n",
            "3 -> 'D'\n",
            "4 -> 'EOS'\n",
            "5 -> 'UNK'\n",
            "\n",
            "Dataset splitting:\n",
            "Train:\t\t80 samples\n",
            "Validation:\t10 samples\n",
            "Test:\t\t10 samples\n"
          ]
        }
      ],
      "source": [
        "# Initialize dataset\n",
        "sequences = generate_dataset(num_sequences = 100)\n",
        "word_to_idx, idx_to_word, num_sequences, vocab_size = sequences_to_dicts(sequences)\n",
        "training_set, validation_set, test_set = create_datasets(sequences)\n",
        "\n",
        "# Print\n",
        "print(f\"Example sequence: {sequences[0]}\\n\")\n",
        "\n",
        "plt.plot(sequences[0], color='blue')\n",
        "plt.title('Plot of the example sequence')\n",
        "plt.show()\n",
        "\n",
        "print(f\"\\n\\nNum of sequences (Dataset size):\\t{num_sequences} sequences\")\n",
        "print(f\"Num of tokens (Vocab size):\\t\\t{vocab_size} tokens\")\n",
        "print(\"\\nword_to_idx:\")\n",
        "for item in word_to_idx:\n",
        "  print(f\"'{item}' -> {word_to_idx[item]}\")\n",
        "print(\"\\nidx_to_word:\")\n",
        "for item in idx_to_word:\n",
        "  print(f\"{item} -> '{idx_to_word[item]}'\")\n",
        "print(f\"\\nDataset splitting:\")\n",
        "print(f'Train:\\t\\t{len(training_set)} samples')\n",
        "print(f'Validation:\\t{len(validation_set)} samples')\n",
        "print(f'Test:\\t\\t{len(test_set)} samples')"
      ]
    },
    {
      "cell_type": "markdown",
      "source": [
        "#### Training"
      ],
      "metadata": {
        "id": "ihYeVf9l-F-4"
      }
    },
    {
      "cell_type": "code",
      "source": [
        "# # DELETE LATER\n",
        "\n",
        "\n"
      ],
      "metadata": {
        "id": "sR0CJVPwpVrH"
      },
      "execution_count": 9,
      "outputs": []
    },
    {
      "cell_type": "code",
      "execution_count": 10,
      "metadata": {
        "id": "0oy1bCY1Z366"
      },
      "outputs": [],
      "source": [
        "all_grads = [0] * len(training_set) # Save all 'grads' of each [inputs, targets in training_set] to calculate a mean grads later\n",
        "all_train_losses = [0] * len(training_set)\n",
        "all_valid_losses = [0] * len(validation_set)\n",
        "all_grads_dummy = [0] * len(validation_set)\n",
        "all_train_losses_dummy = [0] * len(validation_set)\n",
        "all_valid_losses_dummy = [0] * len(training_set)\n",
        "\n",
        "# LOOP THROUGH SAMPLES IN DATASET\n",
        "# 🟢 Can parallel\n",
        "def loop_samples_set(train_or_val_set, params, hidden_size, vocab_size, all_grads, all_train_losses, all_valid_losses):\n",
        "    for idx, (inputs, targets) in enumerate(train_or_val_set):\n",
        "      \n",
        "        # ✅ ========== One-hot encode input and target sequence ==========\n",
        "        # inputs_one_hot = one_hot_encode_sequence(inputs, vocab_size)\n",
        "        inputs_one_hot = []\n",
        "        for word in inputs:\n",
        "            one_hot = np.zeros(vocab_size)\n",
        "            one_hot[word_to_idx[word]] = 1.0\n",
        "            inputs_one_hot.append(one_hot)\n",
        "        inputs_one_hot = np.array(inputs_one_hot)\n",
        "        inputs_one_hot = inputs_one_hot.reshape(inputs_one_hot.shape[0], inputs_one_hot.shape[1], 1)\n",
        "        # targets_one_hot = one_hot_encode_sequence(targets, vocab_size)\n",
        "        targets_one_hot = []\n",
        "        for word in targets:\n",
        "            one_hot = np.zeros(vocab_size)\n",
        "            one_hot[word_to_idx[word]] = 1.0\n",
        "            targets_one_hot.append(one_hot)\n",
        "        targets_one_hot = np.array(targets_one_hot)\n",
        "        targets_one_hot = targets_one_hot.reshape(targets_one_hot.shape[0], targets_one_hot.shape[1], 1)\n",
        "\n",
        "        # ✅ ========== Initialize [h]idden state and [c]ell state ==========\n",
        "        h = np.zeros((hidden_size, 1))\n",
        "        c = np.zeros((hidden_size, 1))\n",
        "\n",
        "        # ✅ ========== Forward pass ==========\n",
        "        # z_s, f_s, i_s, g_s, C_s, o_s, h_s, v_s, outputs = forward(inputs_one_hot, h, c, params)\n",
        "        W_f, W_i, W_g, W_o, W_v, b_f, b_i, b_g, b_o, b_v = params\n",
        "        z_s, f_s, i_s, g_s, o_s, v_s = [0] * len(inputs_one_hot), [0] * len(inputs_one_hot), [0] * len(inputs_one_hot), [0] * len(inputs_one_hot), [0] * len(inputs_one_hot), [0] * len(inputs_one_hot)\n",
        "        outputs = [0] * len(inputs_one_hot)\n",
        "        h_s, C_s = [0] * (len(inputs_one_hot)+1), [0] * (len(inputs_one_hot)+1)\n",
        "        h_s[0] = h\n",
        "        C_s[0] = c\n",
        "        for idx_f, x in enumerate(inputs_one_hot):\n",
        "            z = np.row_stack((h, x))\n",
        "            z_s[idx_f] = z\n",
        "            f = sigmoid(np.dot(W_f, z) + b_f)\n",
        "            f_s[idx_f] = f\n",
        "            i = sigmoid(np.dot(W_i, z) + b_i)\n",
        "            i_s[idx_f] = i\n",
        "            g = tanh(np.dot(W_g, z) + b_g)\n",
        "            g_s[idx_f] = g\n",
        "            c = f * c + i * g\n",
        "            C_s[idx_f+1] = c\n",
        "            o = sigmoid(np.dot(W_o, z) + b_o)\n",
        "            o_s[idx_f] = o\n",
        "            h = o * tanh(c)\n",
        "            h_s[idx_f+1] = h\n",
        "            v = np.dot(W_v, h) + b_v\n",
        "            v_s[idx_f] = v\n",
        "            output = softmax(v)\n",
        "            outputs[idx_f] = output\n",
        "\n",
        "        # 👉 ========== Backward pass ==========\n",
        "        loss, grads = backward(z_s, f_s, i_s, g_s, C_s, o_s, h_s, v_s, outputs, targets_one_hot, params)\n",
        "\n",
        "        # ✅ ========== Save information ==========\n",
        "        # Save loss (Val)\n",
        "        all_valid_losses[idx] = loss\n",
        "        # Save loss (Train)\n",
        "        all_train_losses[idx] = loss\n",
        "        # Save gradients (Train)\n",
        "        all_grads[idx] = grads\n",
        "\n",
        "# Train\n",
        "def train_LSTM(num_epochs = 100, hidden_size = hidden_size, vocab_size = vocab_size):\n",
        "\n",
        "    print('Training:')\n",
        "    print('===========================================================')\n",
        "\n",
        "    # Hidden Size: Number of dimensions of the hidden state\n",
        "    # Vocab Size:  Number of unique tokens in dictionary of the dataset\n",
        "    # Z Size:      Number of dimensions of the concatenated input = Hidden size + Vocab size\n",
        "    z_size = hidden_size + vocab_size\n",
        "\n",
        "    # Initialize LSTM network\n",
        "    params = init_lstm(hidden_size=hidden_size, vocab_size=vocab_size, z_size=z_size)\n",
        "\n",
        "    # Initialize hidden state\n",
        "    hidden_state = np.zeros((hidden_size, 1))\n",
        "\n",
        "    # Initialize train/val loss\n",
        "    training_loss, validation_loss = [], []\n",
        "\n",
        "    # LOOP THROUGH EPOCHS\n",
        "    # 🔴 Cannot parallel\n",
        "    for i in range(num_epochs + 1):\n",
        "        \n",
        "        # Track loss\n",
        "        epoch_training_loss = 0\n",
        "        epoch_validation_loss = 0\n",
        "        \n",
        "        # LOOP THROUGH SAMPLES IN VALIDATION SET\n",
        "        # 🟢 Can parallel\n",
        "        loop_samples_set(validation_set, params, hidden_size, vocab_size, all_grads_dummy, all_train_losses_dummy, all_valid_losses)\n",
        "        \n",
        "        # LOOP THROUGH SAMPLES IN TRAINING SET\n",
        "        # 🟢 Can parallel\n",
        "        loop_samples_set(training_set, params, hidden_size, vocab_size, all_grads, all_train_losses, all_valid_losses_dummy)\n",
        "        \n",
        "        # Calculate mean of grads + Update params\n",
        "        avg_grads = np.mean(all_grads, axis = 0)\n",
        "        params = update_parameters(params, avg_grads, learning_rate = 10e-1)\n",
        "\n",
        "        # Calculate sum of losses\n",
        "        epoch_training_loss = np.sum(all_train_losses)\n",
        "        epoch_validation_loss = np.sum(all_valid_losses)\n",
        "                    \n",
        "        # Save loss for later visualization\n",
        "        training_loss.append(epoch_training_loss/len(training_set))\n",
        "        validation_loss.append(epoch_validation_loss/len(validation_set))\n",
        "\n",
        "        # Print train/val loss\n",
        "        if i % 10 == 0:\n",
        "            print(f'Epoch {i}:\\tTrain loss = {round(training_loss[-1], 5)}\\t Val loss = {round(validation_loss[-1], 5)}')\n",
        "    \n",
        "    print('===========================================================')\n",
        "\n",
        "    # Return the trained LSTM model\n",
        "    return params, training_loss, validation_loss"
      ]
    },
    {
      "cell_type": "code",
      "source": [
        "%%time\n",
        "model, training_loss, validation_loss = train_LSTM(num_epochs = 10)"
      ],
      "metadata": {
        "id": "dnTfJn47AgDa",
        "colab": {
          "base_uri": "https://localhost:8080/"
        },
        "outputId": "766f8677-b5ca-48ea-a16f-1eddcaafb816"
      },
      "execution_count": 11,
      "outputs": [
        {
          "output_type": "stream",
          "name": "stdout",
          "text": [
            "Training:\n",
            "===========================================================\n",
            "Epoch 0:\tTrain loss = 6.39633\t Val loss = 6.43842\n",
            "Epoch 10:\tTrain loss = 4.92906\t Val loss = 4.95575\n",
            "===========================================================\n",
            "CPU times: user 8.66 s, sys: 56.6 ms, total: 8.71 s\n",
            "Wall time: 10.1 s\n"
          ]
        }
      ]
    },
    {
      "cell_type": "markdown",
      "source": [
        "#### Result"
      ],
      "metadata": {
        "id": "9N2SbrW2-PiZ"
      }
    },
    {
      "cell_type": "code",
      "source": [
        "# Plot training and validation loss\n",
        "epoch = np.arange(len(training_loss))\n",
        "plt.figure()\n",
        "plt.plot(epoch, training_loss, 'r', label='Training loss',)\n",
        "plt.plot(epoch, validation_loss, 'b', label='Validation loss')\n",
        "plt.legend()\n",
        "plt.xlabel('Epoch'), plt.ylabel('Loss')\n",
        "plt.title('Training/Validation loss')\n",
        "plt.show()"
      ],
      "metadata": {
        "colab": {
          "base_uri": "https://localhost:8080/",
          "height": 472
        },
        "id": "ndhZTmXENP9E",
        "outputId": "827f60e8-4ea6-4391-e6de-9b067ff469ad"
      },
      "execution_count": 12,
      "outputs": [
        {
          "output_type": "display_data",
          "data": {
            "text/plain": [
              "<Figure size 640x480 with 1 Axes>"
            ],
            "image/png": "[encoded data removed]"
          },
          "metadata": {}
        }
      ]
    },
    {
      "cell_type": "code",
      "source": [
        "# Function: Predict following sequence from an input sequence\n",
        "def inference(params, sentence='', num_generate=1):\n",
        "\n",
        "    sentence = sentence.split(' ')\n",
        "    \n",
        "    sentence_one_hot = one_hot_encode_sequence(sentence, vocab_size)\n",
        "    \n",
        "    # Initialize hidden state as zeros\n",
        "    h = np.zeros((hidden_size, 1))\n",
        "    c = np.zeros((hidden_size, 1))\n",
        "\n",
        "    # Generate hidden state for sentence\n",
        "    _, _, _, _, C_s, _, h_s, _, outputs = forward(sentence_one_hot, h, c, params)\n",
        "    \n",
        "    # Output sentence\n",
        "    output_sentence = sentence\n",
        "    \n",
        "    # Append first prediction\n",
        "    word = idx_to_word[np.argmax(outputs[-1])]    \n",
        "    output_sentence.append(word)\n",
        "    \n",
        "    # Forward pass\n",
        "    for i in range(num_generate - 1):\n",
        "\n",
        "        # Get the latest prediction and latest hidden state\n",
        "        output = outputs[-1]\n",
        "        # hidden_state = hidden_states[-1]\n",
        "        c = C_s[-1]\n",
        "        h = h_s[-1]\n",
        "    \n",
        "        # Reshape our output to match the input shape of our forward pass\n",
        "        output = output.reshape(1, output.shape[0], output.shape[1])\n",
        "    \n",
        "        # Forward pass\n",
        "        _, _, _, _, C_s, _, h_s, _, outputs = forward(output, h, c, params)\n",
        "        \n",
        "        # Compute the index the most likely word and look up the corresponding word\n",
        "        word = idx_to_word[np.argmax(outputs)]\n",
        "        \n",
        "        output_sentence.append(word)\n",
        "        \n",
        "    return output_sentence\n",
        "\n",
        "# Input\n",
        "input_sequence = 'A A A A A B B B'\n",
        "input_sequence_len = len(input_sequence) - input_sequence.count(' ')\n",
        "\n",
        "# Inference\n",
        "result = inference(params=model, sentence=input_sequence, num_generate = 20)\n",
        "\n",
        "# Print\n",
        "print(f\"Input sequence:\\t\\t{input_sequence.split(' ')}\")\n",
        "print(f\"Output sequence:\\t{result}\")\n",
        "\n",
        "# Plot\n",
        "plt.plot(result, color='orange', label='Predicted')\n",
        "plt.plot(result[:input_sequence_len], color='blue', label='Input')\n",
        "plt.title('Visualize model\\'s prediction')\n",
        "plt.legend()\n",
        "plt.show()"
      ],
      "metadata": {
        "colab": {
          "base_uri": "https://localhost:8080/",
          "height": 488
        },
        "id": "qhmCY2-0bc1-",
        "outputId": "bed3b8f2-e9a9-43c5-990b-efd98871c521"
      },
      "execution_count": 13,
      "outputs": [
        {
          "output_type": "stream",
          "name": "stdout",
          "text": [
            "Input sequence:\t\t['A', 'A', 'A', 'A', 'A', 'B', 'B', 'B']\n",
            "Output sequence:\t['A', 'A', 'A', 'A', 'A', 'B', 'B', 'B', 'B', 'B', 'B', 'B', 'B', 'D', 'D', 'D', 'D', 'D', 'D', 'D', 'D', 'D', 'D', 'D', 'D', 'D', 'D', 'D']\n"
          ]
        },
        {
          "output_type": "display_data",
          "data": {
            "text/plain": [
              "<Figure size 640x480 with 1 Axes>"
            ],
            "image/png": "[encoded data removed]"
          },
          "metadata": {}
        }
      ]
    }
  ],
  "metadata": {
    "colab": {
      "provenance": [],
      "collapsed_sections": [
        "2_Hu2lre95KF"
      ]
    },
    "kernelspec": {
      "display_name": "Python 3",
      "language": "python",
      "name": "python3"
    },
    "language_info": {
      "codemirror_mode": {
        "name": "ipython",
        "version": 3
      },
      "file_extension": ".py",
      "mimetype": "text/x-python",
      "name": "python",
      "nbconvert_exporter": "python",
      "pygments_lexer": "ipython3",
      "version": "3.7.4"
    }
  },
  "nbformat": 4,
  "nbformat_minor": 0
}