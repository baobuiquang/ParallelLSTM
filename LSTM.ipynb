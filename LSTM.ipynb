{
  "cells": [
    {
      "cell_type": "markdown",
      "source": [
        "# Functions"
      ],
      "metadata": {
        "id": "KvPdLIDRA7Y7"
      }
    },
    {
      "cell_type": "code",
      "source": [
        "import math\n",
        "import matplotlib.pyplot as plt\n",
        "import numpy as np\n",
        "from numba import cuda\n",
        "\n",
        "# ============================================== REMOVEEEEEEEEEEEEEE THISSSSSSSSSS ===============================================\n",
        "import warnings\n",
        "from numba import NumbaPerformanceWarning\n",
        "warnings.filterwarnings(\"ignore\", category=NumbaPerformanceWarning)\n",
        "np.warnings.filterwarnings('ignore', category=np.VisibleDeprecationWarning)\n",
        "\n",
        "np.random.seed(42)\n",
        "hidden_size = 50"
      ],
      "metadata": {
        "id": "0YcxLEzD0H3y"
      },
      "execution_count": 37,
      "outputs": []
    },
    {
      "cell_type": "code",
      "source": [
        "# Temporarily replace np.random.randn() -> Need to re-implement\n",
        "def randn(x, y):\n",
        "  return np.array([[0.5 if (u+i)%2==0 else -0.5 for u in range(y)] for i in range(x)])"
      ],
      "metadata": {
        "id": "KqHGKyD09JUT"
      },
      "execution_count": 38,
      "outputs": []
    },
    {
      "cell_type": "code",
      "execution_count": 39,
      "metadata": {
        "id": "ApEiXT6MzJES"
      },
      "outputs": [],
      "source": [
        "def generate_dataset(num_sequences = 50, max_num_each_token = 5):\n",
        "    samples = []\n",
        "    for _ in range(num_sequences): \n",
        "        num_tokens = np.random.randint(1, max_num_each_token)\n",
        "        sample = ['A'] * num_tokens + ['B'] * num_tokens + ['EOS']\n",
        "        samples.append(sample)\n",
        "    return samples\n",
        "\n",
        "# Function: List of sequences -> word_to_idx, idx_to_word, num_sentences, vocab_size\n",
        "def sequences_to_dicts(sequences):\n",
        "    flatten = lambda l: [item for sublist in l for item in sublist] # Flatten a nested list\n",
        "    all_words = flatten(sequences)\n",
        "    # Count number of word occurences\n",
        "    word_count = {}\n",
        "    for word in flatten(sequences):\n",
        "        word_count[word] = 0\n",
        "    for word in flatten(sequences):\n",
        "        word_count[word] = word_count[word] + 1\n",
        "    # Sort by frequency\n",
        "    word_count = sorted(list(word_count.items()), key=lambda l: -l[1])\n",
        "    # Create a list of all unique words\n",
        "    unique_words = [item[0] for item in word_count]\n",
        "    # Add UNK token to list of words\n",
        "    unique_words.append('UNK')\n",
        "    # Count number of sequences and number of unique words\n",
        "    num_sentences, vocab_size = len(sequences), len(unique_words)\n",
        "    # Create dictionaries so that we can go from word to index and back\n",
        "    word_to_idx = {}\n",
        "    idx_to_word = {}\n",
        "    # Fill dictionaries\n",
        "    for idx, word in enumerate(unique_words):\n",
        "        word_to_idx[word] = idx\n",
        "        idx_to_word[idx] = word\n",
        "    return word_to_idx, idx_to_word, num_sentences, vocab_size\n",
        "\n",
        "# Function: Create and split dataset into Train/Val/Test set\n",
        "def create_datasets(sequences, p_train=0.8, p_val=0.1, p_test=0.1):\n",
        "    # Train/Val/Test ratio\n",
        "    num_train = int(len(sequences)*p_train)\n",
        "    num_val = int(len(sequences)*p_val)\n",
        "    num_test = int(len(sequences)*p_test)\n",
        "    # Split sequences into Train/Val/Test\n",
        "    sequences_train = sequences[:num_train]\n",
        "    sequences_val = sequences[num_train:num_train+num_val]\n",
        "    sequences_test = sequences[-num_test:]\n",
        "    def get_inputs_targets_from_sequences(sequences):\n",
        "        inputs, targets = [], []\n",
        "        for sequence in sequences:\n",
        "            inputs.append(sequence[:-1])\n",
        "            targets.append(sequence[1:])\n",
        "        return inputs, targets\n",
        "    # Get inputs and targets for each partition\n",
        "    inputs_train, targets_train = get_inputs_targets_from_sequences(sequences_train)\n",
        "    inputs_val, targets_val = get_inputs_targets_from_sequences(sequences_val)\n",
        "    inputs_test, targets_test = get_inputs_targets_from_sequences(sequences_test)\n",
        "    # Create datasets\n",
        "    training_set = [(inputs_train[i], targets_train[i]) for i in range(len(inputs_train))]\n",
        "    validation_set = [(inputs_val[i], targets_val[i]) for i in range(len(inputs_val))]\n",
        "    test_set = [(inputs_test[i], targets_test[i]) for i in range(len(inputs_test))]    \n",
        "    return training_set, validation_set, test_set"
      ]
    },
    {
      "cell_type": "code",
      "execution_count": 40,
      "metadata": {
        "id": "FHIJ6oPYzJEW"
      },
      "outputs": [],
      "source": [
        "def one_hot_encode(idx, vocab_size):\n",
        "    one_hot = np.zeros(vocab_size)\n",
        "    one_hot[idx] = 1.0\n",
        "    return one_hot\n",
        "\n",
        "def one_hot_encode_sequence(sequence, vocab_size):\n",
        "    encoding = np.array([one_hot_encode(word_to_idx[word], vocab_size) for word in sequence])\n",
        "    encoding = encoding.reshape(encoding.shape[0], encoding.shape[1], 1)\n",
        "    return encoding"
      ]
    },
    {
      "cell_type": "code",
      "execution_count": 41,
      "metadata": {
        "id": "OFxupRz0zJEf"
      },
      "outputs": [],
      "source": [
        "def init_orthogonal(param):\n",
        "    if param.ndim < 2:\n",
        "        raise ValueError(\"Only parameters with 2 or more dimensions are supported.\")\n",
        "    rows, cols = param.shape\n",
        "    new_param = randn(rows, cols)\n",
        "    if rows < cols:\n",
        "        new_param = new_param.T\n",
        "    q, r = np.linalg.qr(new_param)\n",
        "    d = np.diag(r, 0)\n",
        "    ph = np.sign(d)\n",
        "    q *= ph\n",
        "    if rows < cols:\n",
        "        q = q.T\n",
        "    new_param = q\n",
        "    return new_param\n",
        "\n",
        "\n",
        "def init_rnn(hidden_size, vocab_size):\n",
        "    U = np.zeros((hidden_size, vocab_size))\n",
        "    V = np.zeros((hidden_size, hidden_size))\n",
        "    W = np.zeros((vocab_size, hidden_size))\n",
        "    b_hidden = np.zeros((hidden_size, 1))\n",
        "    b_out = np.zeros((vocab_size, 1))\n",
        "    U = init_orthogonal(U)\n",
        "    V = init_orthogonal(V)\n",
        "    W = init_orthogonal(W)\n",
        "    return U, V, W, b_hidden, b_out"
      ]
    },
    {
      "cell_type": "code",
      "execution_count": 42,
      "metadata": {
        "id": "qVhw9ZT2zJEg"
      },
      "outputs": [],
      "source": [
        "def sigmoid(x, derivative=False):\n",
        "    x_safe = x + 1e-12\n",
        "    f = 1 / (1 + np.exp(-x_safe))\n",
        "    if derivative:\n",
        "        return f * (1 - f)\n",
        "    else:\n",
        "        return f\n",
        "\n",
        "def tanh(x, derivative=False):\n",
        "    x_safe = x + 1e-12\n",
        "    f = (np.exp(x_safe)-np.exp(-x_safe))/(np.exp(x_safe)+np.exp(-x_safe))\n",
        "    if derivative:\n",
        "        return 1-f**2\n",
        "    else:\n",
        "        return f\n",
        "\n",
        "def softmax(x, derivative=False):\n",
        "    x_safe = x + 1e-12\n",
        "    f = np.exp(x_safe) / np.sum(np.exp(x_safe))\n",
        "    if derivative:\n",
        "        pass\n",
        "    else:\n",
        "        return f\n",
        "\n",
        "def update_parameters(params, grads, lr=1e-3):\n",
        "    for param, grad in zip(params, grads):\n",
        "        param -= lr * grad\n",
        "    return params"
      ]
    },
    {
      "cell_type": "markdown",
      "source": [
        "# Dataset"
      ],
      "metadata": {
        "id": "1dEoi7XvBBcU"
      }
    },
    {
      "cell_type": "code",
      "execution_count": 43,
      "metadata": {
        "colab": {
          "base_uri": "https://localhost:8080/",
          "height": 465
        },
        "id": "signfLfwzJEV",
        "outputId": "750702e3-1a34-428c-8750-aef5967ad95a"
      },
      "outputs": [
        {
          "output_type": "stream",
          "name": "stdout",
          "text": [
            "Example sequence: ['A', 'A', 'B', 'B', 'EOS']\n",
            "\n"
          ]
        },
        {
          "output_type": "display_data",
          "data": {
            "text/plain": [
              "<Figure size 640x480 with 1 Axes>"
            ],
            "image/png": "[encoded data removed]"
          },
          "metadata": {}
        },
        {
          "output_type": "stream",
          "name": "stdout",
          "text": [
            "\n",
            "\n",
            "Num of sequences (Dataset size):\t20 sequences\n",
            "Num of tokens (Vocab size):\t\t4 tokens\n",
            "\n",
            "word_to_idx:\n",
            "'A' -> 0\n",
            "'B' -> 1\n",
            "'EOS' -> 2\n",
            "'UNK' -> 3\n",
            "\n",
            "idx_to_word:\n",
            "0 -> 'A'\n",
            "1 -> 'B'\n",
            "2 -> 'EOS'\n",
            "3 -> 'UNK'\n",
            "\n",
            "Dataset splitting:\n",
            "Train:\t\t16 samples\n",
            "Validation:\t2 samples\n",
            "Test:\t\t2 samples\n"
          ]
        }
      ],
      "source": [
        "# Initialize dataset\n",
        "sequences = generate_dataset(num_sequences = 20, max_num_each_token = 3) # 20 / 3\n",
        "word_to_idx, idx_to_word, num_sequences, vocab_size = sequences_to_dicts(sequences)\n",
        "training_set, validation_set, test_set = create_datasets(sequences)\n",
        "\n",
        "# One-hot Encoding set\n",
        "training_set_one_hot = []\n",
        "validation_set_one_hot = []\n",
        "for idx, (inputs, targets) in enumerate(training_set):\n",
        "    inputs_one_hot = one_hot_encode_sequence(inputs, vocab_size)\n",
        "    targets_one_hot = one_hot_encode_sequence(targets, vocab_size)\n",
        "    training_set_one_hot.append((inputs_one_hot, targets_one_hot))\n",
        "for idx, (inputs, targets) in enumerate(validation_set):\n",
        "    inputs_one_hot = one_hot_encode_sequence(inputs, vocab_size)\n",
        "    targets_one_hot = one_hot_encode_sequence(targets, vocab_size)\n",
        "    validation_set_one_hot.append((inputs_one_hot, targets_one_hot))\n",
        "training_set_one_hot = tuple(training_set_one_hot)\n",
        "validation_set_one_hot = tuple(validation_set_one_hot)\n",
        "\n",
        "# Print\n",
        "print(f\"Example sequence: {sequences[1]}\\n\")\n",
        "\n",
        "plt.plot(sequences[1], color='blue')\n",
        "plt.title('Plot of the example sequence')\n",
        "plt.show()\n",
        "\n",
        "print(f\"\\n\\nNum of sequences (Dataset size):\\t{num_sequences} sequences\")\n",
        "print(f\"Num of tokens (Vocab size):\\t\\t{vocab_size} tokens\")\n",
        "print(\"\\nword_to_idx:\")\n",
        "for item in word_to_idx:\n",
        "  print(f\"'{item}' -> {word_to_idx[item]}\")\n",
        "print(\"\\nidx_to_word:\")\n",
        "for item in idx_to_word:\n",
        "  print(f\"{item} -> '{idx_to_word[item]}'\")\n",
        "print(f\"\\nDataset splitting:\")\n",
        "print(f'Train:\\t\\t{len(training_set)} samples')\n",
        "print(f'Validation:\\t{len(validation_set)} samples')\n",
        "print(f'Test:\\t\\t{len(test_set)} samples')"
      ]
    },
    {
      "cell_type": "markdown",
      "source": [
        "# Train LSTM"
      ],
      "metadata": {
        "id": "uo7ao7eYBI1p"
      }
    },
    {
      "cell_type": "code",
      "execution_count": 44,
      "metadata": {
        "id": "roXK0HW6s2Z_"
      },
      "outputs": [],
      "source": [
        "def forward_pass(inputs, h, U, V, W, b_hidden, b_out):\n",
        "    outputs, h_s = [0] * len(inputs), [0] * len(inputs)\n",
        "    for t in range(len(inputs)):\n",
        "        h = tanh(np.dot(U, inputs[t]) + np.dot(V, h) + b_hidden)\n",
        "        h_s[t] = h\n",
        "        outputs[t] = softmax(np.dot(W, h) + b_out)\n",
        "    return outputs, h_s"
      ]
    },
    {
      "cell_type": "code",
      "source": [
        "def backward_pass(inputs, outputs, h_s, targets, V, W):\n",
        "    d_U = np.zeros((hidden_size, vocab_size))\n",
        "    d_V = np.zeros((hidden_size, hidden_size))\n",
        "    d_W = np.zeros((vocab_size, hidden_size))\n",
        "    d_B = np.zeros((hidden_size, 1))\n",
        "    d_h_next = np.zeros((hidden_size, 1))\n",
        "    loss = 0\n",
        "    for t in reversed(range(len(outputs))):\n",
        "        loss = loss - np.mean(np.log(outputs[t]+1e-12) * targets[t])\n",
        "        d_o = outputs[t]\n",
        "        d_o[np.argmax(targets[t])] = d_o[np.argmax(targets[t])] - 1\n",
        "        d_f = tanh(h_s[t], derivative=True) * (np.dot(W.T, d_o) + d_h_next)\n",
        "        d_h_next = np.dot(V.T, d_f)\n",
        "        d_U = d_U + np.dot(d_f, inputs[t].T)\n",
        "        d_V = d_V + np.dot(d_f, h_s[t-1].T)\n",
        "        d_W = d_W + np.dot(d_o, h_s[t].T)\n",
        "        d_B = d_B + d_f\n",
        "    clip_coef = 0.25 / (np.sqrt(np.sum(np.power(d_U, 2)) + np.sum(np.power(d_V, 2)) + np.sum(np.power(d_W, 2)) + np.sum(np.power(d_B, 2))) + 1e-6)\n",
        "    if clip_coef < 1:\n",
        "        d_U = d_U * clip_coef\n",
        "        d_V = d_V * clip_coef\n",
        "        d_W = d_W * clip_coef\n",
        "        d_B = d_B * clip_coef\n",
        "    return loss, d_U, d_V, d_W, d_B"
      ],
      "metadata": {
        "id": "V9c-_Kx9XRT4"
      },
      "execution_count": 45,
      "outputs": []
    },
    {
      "cell_type": "code",
      "execution_count": 46,
      "metadata": {
        "id": "YMcg90qYs6kW",
        "scrolled": false
      },
      "outputs": [],
      "source": [
        "def train_LSTM(num_epochs = 100, learning_rate = 10e-1, hidden_size = hidden_size, vocab_size = vocab_size):\n",
        "\n",
        "    # Initialize a new network\n",
        "    params = init_rnn(hidden_size=hidden_size, vocab_size=vocab_size)\n",
        "\n",
        "    # Initialize hidden state as zeros\n",
        "    hidden_state = np.zeros((hidden_size, 1))\n",
        "\n",
        "    # Track loss\n",
        "    training_loss, validation_loss = [], []\n",
        "\n",
        "    # For each epoch\n",
        "    for i in range(num_epochs+1):\n",
        "        \n",
        "        # Track loss\n",
        "        epoch_training_loss = 0\n",
        "        epoch_validation_loss = 0\n",
        "\n",
        "        all_grads = [0] * len(training_set)\n",
        "        all_grads_d_U = [0] * len(training_set)\n",
        "        all_grads_d_V = [0] * len(training_set)\n",
        "        all_grads_d_W = [0] * len(training_set)\n",
        "        all_grads_d_B = [0] * len(training_set)\n",
        "        all_train_losses = np.zeros(len(training_set))\n",
        "        all_valid_losses = np.zeros(len(validation_set))\n",
        "\n",
        "        U, V, W, b_hidden, b_out = params\n",
        "        \n",
        "        # For each sentence in validation set\n",
        "        for idx, (inputs, targets) in enumerate(validation_set):\n",
        "            # One-hot encode input and target sequence\n",
        "            inputs_one_hot = validation_set_one_hot[idx][0]\n",
        "            targets_one_hot = validation_set_one_hot[idx][1]\n",
        "            # Re-initialize hidden state\n",
        "            hidden_state = np.zeros_like(hidden_state)\n",
        "            # Forward pass\n",
        "            outputs, hidden_states = forward_pass(inputs_one_hot, hidden_state, U, V, W, b_hidden, b_out)\n",
        "            # Backward pass\n",
        "            loss, d_U, d_V, d_W, d_B = backward_pass(inputs_one_hot, outputs, hidden_states, targets_one_hot, V, W)\n",
        "            # Save loss\n",
        "            all_valid_losses[idx] = loss\n",
        "        \n",
        "        # For each sentence in training set\n",
        "        for idx, (inputs, targets) in enumerate(training_set):\n",
        "            # One-hot encode input and target sequence\n",
        "            inputs_one_hot = training_set_one_hot[idx][0]\n",
        "            targets_one_hot = training_set_one_hot[idx][1]\n",
        "            # Re-initialize hidden state\n",
        "            hidden_state = np.zeros_like(hidden_state)\n",
        "            # Forward pass\n",
        "            outputs, hidden_states = forward_pass(inputs_one_hot, hidden_state, U, V, W, b_hidden, b_out)\n",
        "            # Backward pass\n",
        "            loss, d_U, d_V, d_W, d_B = backward_pass(inputs_one_hot, outputs, hidden_states, targets_one_hot, V, W)\n",
        "            # Save loss\n",
        "            all_train_losses[idx] = loss\n",
        "            # Save grads\n",
        "            all_grads_d_U[idx] = d_U\n",
        "            all_grads_d_V[idx] = d_V\n",
        "            all_grads_d_W[idx] = d_W\n",
        "            all_grads_d_B[idx] = d_B\n",
        "            \n",
        "        # Calculate mean of grads + Update params\n",
        "        for tmpi in range(len(all_grads)):\n",
        "            all_grads[tmpi] = [all_grads_d_U[tmpi], all_grads_d_V[tmpi], all_grads_d_W[tmpi], all_grads_d_B[tmpi]]\n",
        "        avg_grads = np.mean(all_grads, axis = 0)\n",
        "        params = update_parameters(params, avg_grads, lr = learning_rate)\n",
        "\n",
        "        # Calculate sum of losses\n",
        "        epoch_training_loss = np.sum(all_train_losses)\n",
        "        epoch_validation_loss = np.sum(all_valid_losses)\n",
        "\n",
        "        # Save loss for plot\n",
        "        training_loss.append(epoch_training_loss/len(training_set))\n",
        "        validation_loss.append(epoch_validation_loss/len(validation_set))\n",
        "\n",
        "        # Print loss\n",
        "        if i % 5 == 0:\n",
        "            print(f'Epoch {i}:\\tTrain Loss = {round(training_loss[-1], 2)}\\tValid Loss = {round(validation_loss[-1], 2)}')\n",
        "            if training_loss[-1] == 0.5210244780986917 and validation_loss[-1] == 1.0045486973360829:\n",
        "                print(f'👍👍👍👍👍👍👍👍👍👍\\n' * 10)\n",
        "\n",
        "    return params"
      ]
    },
    {
      "cell_type": "code",
      "source": [
        "params = train_LSTM(num_epochs = 5, learning_rate = 10e-1)"
      ],
      "metadata": {
        "colab": {
          "base_uri": "https://localhost:8080/"
        },
        "id": "TzTyy1Nr-rAe",
        "outputId": "5b9df291-748b-404e-fe53-a297beb2857e"
      },
      "execution_count": 47,
      "outputs": [
        {
          "output_type": "stream",
          "name": "stdout",
          "text": [
            "Epoch 0:\tTrain Loss = 0.93\tValid Loss = 1.28\n",
            "Epoch 5:\tTrain Loss = 0.52\tValid Loss = 1.0\n",
            "👍👍👍👍👍👍👍👍👍👍\n",
            "👍👍👍👍👍👍👍👍👍👍\n",
            "👍👍👍👍👍👍👍👍👍👍\n",
            "👍👍👍👍👍👍👍👍👍👍\n",
            "👍👍👍👍👍👍👍👍👍👍\n",
            "👍👍👍👍👍👍👍👍👍👍\n",
            "👍👍👍👍👍👍👍👍👍👍\n",
            "👍👍👍👍👍👍👍👍👍👍\n",
            "👍👍👍👍👍👍👍👍👍👍\n",
            "👍👍👍👍👍👍👍👍👍👍\n",
            "\n"
          ]
        }
      ]
    },
    {
      "cell_type": "markdown",
      "source": [
        "# Test"
      ],
      "metadata": {
        "id": "kb5YkxVEBL3O"
      }
    },
    {
      "cell_type": "code",
      "execution_count": 48,
      "metadata": {
        "colab": {
          "base_uri": "https://localhost:8080/",
          "height": 72
        },
        "id": "oXwRLfIZzJEm",
        "outputId": "9370644b-99c5-4436-f0c7-44e8224b4a6a"
      },
      "outputs": [
        {
          "output_type": "display_data",
          "data": {
            "text/plain": [
              "<Figure size 640x480 with 1 Axes>"
            ],
            "image/png": "[encoded data removed]"
          },
          "metadata": {}
        },
        {
          "output_type": "stream",
          "name": "stdout",
          "text": [
            "['A', 'A', 'A', 'A', 'B', 'EOS', 'EOS', 'EOS', 'EOS', 'EOS', 'EOS', 'EOS', 'EOS', 'EOS', 'EOS', 'EOS', 'EOS', 'EOS', 'EOS', 'EOS', 'EOS']\n"
          ]
        }
      ],
      "source": [
        "def inference(params, sentence='', num_generate=15):\n",
        "    sentence = sentence.split(' ')\n",
        "    sentence_one_hot = one_hot_encode_sequence(sentence, vocab_size)\n",
        "    hidden_state = np.zeros((hidden_size, 1))\n",
        "    U, V, W, b_hidden, b_out = params\n",
        "    outputs, hidden_states = forward_pass(sentence_one_hot, hidden_state, U, V, W, b_hidden, b_out)\n",
        "    output_sentence = sentence\n",
        "    word = idx_to_word[np.argmax(outputs[-1])]    \n",
        "    output_sentence.append(word)\n",
        "    for i in range(num_generate):\n",
        "        output = outputs[-1]\n",
        "        hidden_state = hidden_states[-1]\n",
        "        output = output.reshape(1, output.shape[0], output.shape[1])\n",
        "        # Forward pass\n",
        "        outputs, hidden_states = forward_pass(output, hidden_state, U, V, W, b_hidden, b_out)\n",
        "        word = idx_to_word[np.argmax(outputs)]\n",
        "        output_sentence.append(word)\n",
        "    return output_sentence\n",
        "\n",
        "prediction = inference(params, sentence='A A A A B')\n",
        "plt.plot(prediction)\n",
        "plt.show()\n",
        "print(prediction)"
      ]
    }
  ],
  "metadata": {
    "colab": {
      "collapsed_sections": [
        "KvPdLIDRA7Y7",
        "1dEoi7XvBBcU",
        "kb5YkxVEBL3O"
      ],
      "provenance": []
    },
    "kernelspec": {
      "display_name": "Python 3",
      "language": "python",
      "name": "python3"
    },
    "language_info": {
      "codemirror_mode": {
        "name": "ipython",
        "version": 3
      },
      "file_extension": ".py",
      "mimetype": "text/x-python",
      "name": "python",
      "nbconvert_exporter": "python",
      "pygments_lexer": "ipython3",
      "version": "3.7.4"
    }
  },
  "nbformat": 4,
  "nbformat_minor": 0
}